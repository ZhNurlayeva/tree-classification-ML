{
 "cells": [
  {
   "cell_type": "markdown",
   "id": "837986f0",
   "metadata": {},
   "source": [
    "### Pruning & Final Model Selection\n",
    "\n",
    "Goal: Reduce overfitting by pruning and finalize the best model\n",
    "\n",
    "Approach:\n",
    " - Compare fully grown tree vs. depth-limited tree\n",
    " - Apply cost-complexity pruning\n",
    " - Perform cross-validation & VC-dimension analysis\n",
    " - Evaluate final model on an unseen dataset\n"
   ]
  },
  {
   "cell_type": "code",
   "execution_count": 1,
   "id": "a27cf4f9",
   "metadata": {},
   "outputs": [],
   "source": [
    "import numpy as np\n",
    "import pandas as pd\n",
    "import matplotlib.pyplot as plt\n",
    "from sklearn.metrics import accuracy_score\n",
    "from decision_tree import DecisionTree # Custom implemented Decision Tree \n",
    "from sklearn.tree import DecisionTreeClassifier # Sklearn Decision Tree for pruning \n",
    "from IPython.display import display\n",
    "from sklearn.model_selection import cross_val_score\n"
   ]
  },
  {
   "cell_type": "markdown",
   "id": "10452a8a",
   "metadata": {},
   "source": [
    "#### Load Processed Dataset"
   ]
  },
  {
   "cell_type": "code",
   "execution_count": 2,
   "id": "08e1cd64",
   "metadata": {},
   "outputs": [],
   "source": [
    "# Load the dataset \n",
    "X_train = np.load(\"X_train.npy\")\n",
    "X_test = np.load(\"X_test.npy\")\n",
    "y_train = np.load(\"y_train.npy\")\n",
    "y_test = np.load(\"y_test.npy\")\n",
    "# Load the completely unseen final test set\n",
    "X_final_test = np.load(\"X_final_test.npy\")\n",
    "y_final_test = np.load(\"y_final_test.npy\")"
   ]
  },
  {
   "cell_type": "markdown",
   "id": "b879abf8",
   "metadata": {},
   "source": [
    "#### Train Fully Grown Tree vs. Depth-15 Tree (Before Pruning)\n",
    "\n",
    "Compare an unpruned fully grown tree with a depth-limited tree to analyze overfitting.\n",
    "- If the generalization gap is large, the fully grown tree overfits because it memorizes training data.\n",
    "- The depth-15 tree should perform better on the test set if it generalizes well."
   ]
  },
  {
   "cell_type": "code",
   "execution_count": 3,
   "id": "abbce821",
   "metadata": {},
   "outputs": [
    {
     "name": "stdout",
     "output_type": "stream",
     "text": [
      "Training Fully Grown and Depth-15 Trees...\n",
      "Overfitting Analysis:\n"
     ]
    },
    {
     "data": {
      "text/html": [
       "<div>\n",
       "<style scoped>\n",
       "    .dataframe tbody tr th:only-of-type {\n",
       "        vertical-align: middle;\n",
       "    }\n",
       "\n",
       "    .dataframe tbody tr th {\n",
       "        vertical-align: top;\n",
       "    }\n",
       "\n",
       "    .dataframe thead th {\n",
       "        text-align: right;\n",
       "    }\n",
       "</style>\n",
       "<table border=\"1\" class=\"dataframe\">\n",
       "  <thead>\n",
       "    <tr style=\"text-align: right;\">\n",
       "      <th></th>\n",
       "      <th>Model</th>\n",
       "      <th>Train Accuracy</th>\n",
       "      <th>Test Accuracy</th>\n",
       "      <th>Generalization Gap</th>\n",
       "    </tr>\n",
       "  </thead>\n",
       "  <tbody>\n",
       "    <tr>\n",
       "      <th>0</th>\n",
       "      <td>Fully Grown (Before Pruning)</td>\n",
       "      <td>1.000000</td>\n",
       "      <td>0.996361</td>\n",
       "      <td>0.003639</td>\n",
       "    </tr>\n",
       "    <tr>\n",
       "      <th>1</th>\n",
       "      <td>Depth=15 (No Pruning)</td>\n",
       "      <td>0.993818</td>\n",
       "      <td>0.990266</td>\n",
       "      <td>0.003553</td>\n",
       "    </tr>\n",
       "  </tbody>\n",
       "</table>\n",
       "</div>"
      ],
      "text/plain": [
       "                          Model  Train Accuracy  Test Accuracy  \\\n",
       "0  Fully Grown (Before Pruning)        1.000000       0.996361   \n",
       "1         Depth=15 (No Pruning)        0.993818       0.990266   \n",
       "\n",
       "   Generalization Gap  \n",
       "0            0.003639  \n",
       "1            0.003553  "
      ]
     },
     "metadata": {},
     "output_type": "display_data"
    }
   ],
   "source": [
    "print(\"Training Fully Grown and Depth-15 Trees...\")\n",
    "\n",
    "# Fully Grown Tree (Overfit)\n",
    "overfit_tree = DecisionTree(max_depth=None, min_impurity_decrease=0.0, criterion=\"gini\")\n",
    "overfit_tree.fit(X_train, y_train)\n",
    "\n",
    "# Depth=15 Tree\n",
    "depth15_tree = DecisionTree(max_depth=15, min_impurity_decrease=0.0, criterion=\"gini\")\n",
    "depth15_tree.fit(X_train, y_train)\n",
    "\n",
    "# Compute Accuracy\n",
    "overfit_train_acc = accuracy_score(y_train, overfit_tree.predict(X_train))\n",
    "overfit_test_acc = accuracy_score(y_test, overfit_tree.predict(X_test))\n",
    "\n",
    "depth15_train_acc = accuracy_score(y_train, depth15_tree.predict(X_train))\n",
    "depth15_test_acc = accuracy_score(y_test, depth15_tree.predict(X_test))\n",
    "\n",
    "# Store comparison results\n",
    "comparison_df = pd.DataFrame({\n",
    "    \"Model\": [\"Fully Grown (Before Pruning)\", \"Depth=15 (No Pruning)\"],\n",
    "    \"Train Accuracy\": [overfit_train_acc, depth15_train_acc],\n",
    "    \"Test Accuracy\": [overfit_test_acc, depth15_test_acc],\n",
    "    \"Generalization Gap\": [overfit_train_acc - overfit_test_acc, depth15_train_acc - depth15_test_acc]\n",
    "})\n",
    "\n",
    "print(\"Overfitting Analysis:\")\n",
    "display(comparison_df)\n",
    "\n"
   ]
  },
  {
   "cell_type": "markdown",
   "id": "7fd0b8bd",
   "metadata": {},
   "source": [
    "#### Cost-Complexity Pruning (Avoid Overfitting)\n",
    "Reduce overfitting by pruning using different alpha (complexity) values.\n",
    "- A higher alpha value means stronger pruning, leading to a simpler tree.\n",
    "- The best alpha is where test accuracy remains stable while train accuracy drops slightly (indicating reduced overfitting)."
   ]
  },
  {
   "cell_type": "code",
   "execution_count": 4,
   "id": "9f401066",
   "metadata": {},
   "outputs": [
    {
     "name": "stdout",
     "output_type": "stream",
     "text": [
      "\n",
      "Performing Cost-Complexity Pruning...\n"
     ]
    },
    {
     "data": {
      "text/html": [
       "<div>\n",
       "<style scoped>\n",
       "    .dataframe tbody tr th:only-of-type {\n",
       "        vertical-align: middle;\n",
       "    }\n",
       "\n",
       "    .dataframe tbody tr th {\n",
       "        vertical-align: top;\n",
       "    }\n",
       "\n",
       "    .dataframe thead th {\n",
       "        text-align: right;\n",
       "    }\n",
       "</style>\n",
       "<table border=\"1\" class=\"dataframe\">\n",
       "  <thead>\n",
       "    <tr style=\"text-align: right;\">\n",
       "      <th></th>\n",
       "      <th>Alpha</th>\n",
       "      <th>Training Accuracy</th>\n",
       "      <th>Test Accuracy</th>\n",
       "    </tr>\n",
       "  </thead>\n",
       "  <tbody>\n",
       "    <tr>\n",
       "      <th>0</th>\n",
       "      <td>0.0001</td>\n",
       "      <td>0.995006</td>\n",
       "      <td>0.994087</td>\n",
       "    </tr>\n",
       "    <tr>\n",
       "      <th>1</th>\n",
       "      <td>0.0010</td>\n",
       "      <td>0.963033</td>\n",
       "      <td>0.961426</td>\n",
       "    </tr>\n",
       "    <tr>\n",
       "      <th>2</th>\n",
       "      <td>0.0050</td>\n",
       "      <td>0.837642</td>\n",
       "      <td>0.829876</td>\n",
       "    </tr>\n",
       "    <tr>\n",
       "      <th>3</th>\n",
       "      <td>0.0100</td>\n",
       "      <td>0.611749</td>\n",
       "      <td>0.608806</td>\n",
       "    </tr>\n",
       "  </tbody>\n",
       "</table>\n",
       "</div>"
      ],
      "text/plain": [
       "    Alpha  Training Accuracy  Test Accuracy\n",
       "0  0.0001           0.995006       0.994087\n",
       "1  0.0010           0.963033       0.961426\n",
       "2  0.0050           0.837642       0.829876\n",
       "3  0.0100           0.611749       0.608806"
      ]
     },
     "metadata": {},
     "output_type": "display_data"
    }
   ],
   "source": [
    "print(\"\\nPerforming Cost-Complexity Pruning...\")\n",
    "\n",
    "ccp_alpha_values = [0.0001, 0.001, 0.005, 0.01]# Regularization strength\n",
    "\n",
    "pruning_results = []\n",
    "for ccp_alpha in ccp_alpha_values:\n",
    "    sklearn_tree = DecisionTreeClassifier(ccp_alpha=ccp_alpha, criterion=\"gini\")\n",
    "    sklearn_tree.fit(X_train, y_train)\n",
    "\n",
    "    train_acc = accuracy_score(y_train, sklearn_tree.predict(X_train))\n",
    "    test_acc = accuracy_score(y_test, sklearn_tree.predict(X_test))\n",
    "\n",
    "    pruning_results.append({\n",
    "        \"Alpha\": ccp_alpha,\n",
    "        \"Training Accuracy\": train_acc,\n",
    "        \"Test Accuracy\": test_acc\n",
    "    })\n",
    "\n",
    "# Convert results to DataFrame\n",
    "pruning_results_df = pd.DataFrame(pruning_results)\n",
    "display(pruning_results_df)\n"
   ]
  },
  {
   "cell_type": "markdown",
   "id": "40ff1ccd",
   "metadata": {},
   "source": [
    "#### Final Model Selection (Pruned vs. Depth=15)\n",
    "Compare the best depth-limited tree vs. pruned tree to decide which is better.\n",
    "- If the pruned tree performs similarly to the depth-15 tree but has lower overfitting, it’s the better choice.\n",
    "- Pruning should maintain accuracy while reducing model complexity."
   ]
  },
  {
   "cell_type": "code",
   "execution_count": 5,
   "id": "9ce5f5ce",
   "metadata": {},
   "outputs": [
    {
     "name": "stdout",
     "output_type": "stream",
     "text": [
      "\n",
      "Selecting Final Model Based on Pruning...\n"
     ]
    },
    {
     "data": {
      "text/html": [
       "<div>\n",
       "<style scoped>\n",
       "    .dataframe tbody tr th:only-of-type {\n",
       "        vertical-align: middle;\n",
       "    }\n",
       "\n",
       "    .dataframe tbody tr th {\n",
       "        vertical-align: top;\n",
       "    }\n",
       "\n",
       "    .dataframe thead th {\n",
       "        text-align: right;\n",
       "    }\n",
       "</style>\n",
       "<table border=\"1\" class=\"dataframe\">\n",
       "  <thead>\n",
       "    <tr style=\"text-align: right;\">\n",
       "      <th></th>\n",
       "      <th>Model</th>\n",
       "      <th>Train Accuracy</th>\n",
       "      <th>Test Accuracy</th>\n",
       "      <th>Generalization Gap</th>\n",
       "    </tr>\n",
       "  </thead>\n",
       "  <tbody>\n",
       "    <tr>\n",
       "      <th>0</th>\n",
       "      <td>Depth=15 (No Pruning)</td>\n",
       "      <td>0.993818</td>\n",
       "      <td>0.990266</td>\n",
       "      <td>0.003553</td>\n",
       "    </tr>\n",
       "    <tr>\n",
       "      <th>1</th>\n",
       "      <td>Fully Grown + Light Pruning (α=0.0001)</td>\n",
       "      <td>0.994965</td>\n",
       "      <td>0.993905</td>\n",
       "      <td>0.001060</td>\n",
       "    </tr>\n",
       "  </tbody>\n",
       "</table>\n",
       "</div>"
      ],
      "text/plain": [
       "                                    Model  Train Accuracy  Test Accuracy  \\\n",
       "0                   Depth=15 (No Pruning)        0.993818       0.990266   \n",
       "1  Fully Grown + Light Pruning (α=0.0001)        0.994965       0.993905   \n",
       "\n",
       "   Generalization Gap  \n",
       "0            0.003553  \n",
       "1            0.001060  "
      ]
     },
     "metadata": {},
     "output_type": "display_data"
    }
   ],
   "source": [
    "print(\"\\nSelecting Final Model Based on Pruning...\")\n",
    "\n",
    "# Train Pruned Tree (α=0.0001)\n",
    "pruned_tree = DecisionTreeClassifier(ccp_alpha=0.0001, criterion=\"gini\")\n",
    "pruned_tree.fit(X_train, y_train)\n",
    "\n",
    "# Compute Accuracy\n",
    "pruned_train_acc = accuracy_score(y_train, pruned_tree.predict(X_train))\n",
    "pruned_test_acc = accuracy_score(y_test, pruned_tree.predict(X_test))\n",
    "\n",
    "\n",
    "# Store results\n",
    "final_choices = pd.DataFrame({\n",
    "    \"Model\": [\"Depth=15 (No Pruning)\", \"Fully Grown + Light Pruning (α=0.0001)\"],\n",
    "    \"Train Accuracy\": [depth15_train_acc, pruned_train_acc],\n",
    "    \"Test Accuracy\": [depth15_test_acc, pruned_test_acc],\n",
    "    \"Generalization Gap\": [depth15_train_acc - depth15_test_acc, pruned_train_acc - pruned_test_acc]\n",
    "})\n",
    "\n",
    "display(final_choices)\n"
   ]
  },
  {
   "cell_type": "markdown",
   "id": "68142073",
   "metadata": {},
   "source": [
    "#### Cross-Validation & VC-Dimension Analysis\n",
    "Ensure the selected model generalizes well using Cross-Validation.\n",
    "- If CV accuracy matches test accuracy, the model generalizes well and isn’t overfitting.\n"
   ]
  },
  {
   "cell_type": "code",
   "execution_count": 6,
   "id": "ee9f364a",
   "metadata": {},
   "outputs": [
    {
     "name": "stdout",
     "output_type": "stream",
     "text": [
      "\n",
      "Performing Cross-Validation...\n"
     ]
    },
    {
     "data": {
      "text/html": [
       "<div>\n",
       "<style scoped>\n",
       "    .dataframe tbody tr th:only-of-type {\n",
       "        vertical-align: middle;\n",
       "    }\n",
       "\n",
       "    .dataframe tbody tr th {\n",
       "        vertical-align: top;\n",
       "    }\n",
       "\n",
       "    .dataframe thead th {\n",
       "        text-align: right;\n",
       "    }\n",
       "</style>\n",
       "<table border=\"1\" class=\"dataframe\">\n",
       "  <thead>\n",
       "    <tr style=\"text-align: right;\">\n",
       "      <th></th>\n",
       "      <th>Model</th>\n",
       "      <th>Cross-Validated Accuracy</th>\n",
       "    </tr>\n",
       "  </thead>\n",
       "  <tbody>\n",
       "    <tr>\n",
       "      <th>0</th>\n",
       "      <td>Depth=15 (No Pruning)</td>\n",
       "      <td>0.986552</td>\n",
       "    </tr>\n",
       "    <tr>\n",
       "      <th>1</th>\n",
       "      <td>Pruned Fully Grown (α=0.0001)</td>\n",
       "      <td>0.959984</td>\n",
       "    </tr>\n",
       "  </tbody>\n",
       "</table>\n",
       "</div>"
      ],
      "text/plain": [
       "                           Model  Cross-Validated Accuracy\n",
       "0          Depth=15 (No Pruning)                  0.986552\n",
       "1  Pruned Fully Grown (α=0.0001)                  0.959984"
      ]
     },
     "metadata": {},
     "output_type": "display_data"
    }
   ],
   "source": [
    "print(\"\\nPerforming Cross-Validation...\")\n",
    "\n",
    "models = {\n",
    "    \"Depth=15 (No Pruning)\": DecisionTree(max_depth=15, min_impurity_decrease=0.0, criterion=\"gini\"),\n",
    "    \"Pruned Fully Grown (α=0.0001)\": DecisionTree(max_depth=None, min_impurity_decrease=0.0001, criterion=\"gini\")\n",
    "}\n",
    "\n",
    "# Perform 5-fold cross-validation\n",
    "cv_results = {}\n",
    "\n",
    "for name, model in models.items():\n",
    "    scores = cross_val_score(model, X_train, y_train, cv=5, scoring='accuracy')\n",
    "    cv_results[name] = scores.mean()  # Store mean accuracy across folds\n",
    "\n",
    "# Store and display results\n",
    "import pandas as pd\n",
    "cv_df = pd.DataFrame(list(cv_results.items()), columns=[\"Model\", \"Cross-Validated Accuracy\"])\n",
    "display(cv_df)\n"
   ]
  },
  {
   "cell_type": "markdown",
   "id": "eb0dc503",
   "metadata": {},
   "source": [
    "#### VC-Dimension Estimation (PAC Learning)\n",
    "Estimate VC-Dimension (Model Complexity).\n",
    "- If VC-Dimension is too high, the model is too complex and prone to overfitting.\n",
    "- Lower VC-Dimension suggests better generalization."
   ]
  },
  {
   "cell_type": "code",
   "execution_count": 7,
   "id": "9744bbac",
   "metadata": {},
   "outputs": [
    {
     "name": "stdout",
     "output_type": "stream",
     "text": [
      "\n",
      "Estimating Model Complexity (VC-Dimension)...\n"
     ]
    },
    {
     "data": {
      "text/html": [
       "<div>\n",
       "<style scoped>\n",
       "    .dataframe tbody tr th:only-of-type {\n",
       "        vertical-align: middle;\n",
       "    }\n",
       "\n",
       "    .dataframe tbody tr th {\n",
       "        vertical-align: top;\n",
       "    }\n",
       "\n",
       "    .dataframe thead th {\n",
       "        text-align: right;\n",
       "    }\n",
       "</style>\n",
       "<table border=\"1\" class=\"dataframe\">\n",
       "  <thead>\n",
       "    <tr style=\"text-align: right;\">\n",
       "      <th></th>\n",
       "      <th>Model</th>\n",
       "      <th>Estimated VC-Dimension</th>\n",
       "    </tr>\n",
       "  </thead>\n",
       "  <tbody>\n",
       "    <tr>\n",
       "      <th>0</th>\n",
       "      <td>Depth=15 (No Pruning)</td>\n",
       "      <td>225.000000</td>\n",
       "    </tr>\n",
       "    <tr>\n",
       "      <th>1</th>\n",
       "      <td>Pruned Fully Grown (α=0.0001)</td>\n",
       "      <td>233.643279</td>\n",
       "    </tr>\n",
       "  </tbody>\n",
       "</table>\n",
       "</div>"
      ],
      "text/plain": [
       "                           Model  Estimated VC-Dimension\n",
       "0          Depth=15 (No Pruning)              225.000000\n",
       "1  Pruned Fully Grown (α=0.0001)              233.643279"
      ]
     },
     "metadata": {},
     "output_type": "display_data"
    }
   ],
   "source": [
    "print(\"\\nEstimating Model Complexity (VC-Dimension)...\")\n",
    "\n",
    "vc_estimate_15 = X_train.shape[1] * 15  # Features * depth (simplified assumption)\n",
    "vc_estimate_none = X_train.shape[1] * (np.log2(len(X_train)))  # Approximate for fully grown tree\n",
    "\n",
    "# Display estimated complexity measures\n",
    "vc_df = pd.DataFrame({\n",
    "    \"Model\": [\"Depth=15 (No Pruning)\", \"Pruned Fully Grown (α=0.0001)\"],\n",
    "    \"Estimated VC-Dimension\": [vc_estimate_15, vc_estimate_none]\n",
    "})\n",
    "\n",
    "display(vc_df)\n"
   ]
  },
  {
   "cell_type": "markdown",
   "id": "4fad7449",
   "metadata": {},
   "source": [
    "#### Out-of-Sample Testing on Final Holdout Set\n",
    "Evaluate the final model on an unseen dataset.\n",
    "- If both models perform similarly on unseen data, the pruned tree is preferred because it’s simpler and generalizes better.\n",
    "- If accuracy drops significantly, the model may still be overfitting, and additional regularization may be needed.\n"
   ]
  },
  {
   "cell_type": "code",
   "execution_count": 8,
   "id": "1412fbaa",
   "metadata": {},
   "outputs": [
    {
     "name": "stdout",
     "output_type": "stream",
     "text": [
      "\n",
      "Evaluating Final Model on Unseen Data...\n"
     ]
    },
    {
     "data": {
      "text/html": [
       "<div>\n",
       "<style scoped>\n",
       "    .dataframe tbody tr th:only-of-type {\n",
       "        vertical-align: middle;\n",
       "    }\n",
       "\n",
       "    .dataframe tbody tr th {\n",
       "        vertical-align: top;\n",
       "    }\n",
       "\n",
       "    .dataframe thead th {\n",
       "        text-align: right;\n",
       "    }\n",
       "</style>\n",
       "<table border=\"1\" class=\"dataframe\">\n",
       "  <thead>\n",
       "    <tr style=\"text-align: right;\">\n",
       "      <th></th>\n",
       "      <th>Model</th>\n",
       "      <th>Final Test Accuracy</th>\n",
       "    </tr>\n",
       "  </thead>\n",
       "  <tbody>\n",
       "    <tr>\n",
       "      <th>0</th>\n",
       "      <td>Depth=15 (No Pruning)</td>\n",
       "      <td>0.989362</td>\n",
       "    </tr>\n",
       "    <tr>\n",
       "      <th>1</th>\n",
       "      <td>Pruned Fully Grown (α=0.0001)</td>\n",
       "      <td>0.989362</td>\n",
       "    </tr>\n",
       "  </tbody>\n",
       "</table>\n",
       "</div>"
      ],
      "text/plain": [
       "                           Model  Final Test Accuracy\n",
       "0          Depth=15 (No Pruning)             0.989362\n",
       "1  Pruned Fully Grown (α=0.0001)             0.989362"
      ]
     },
     "metadata": {},
     "output_type": "display_data"
    }
   ],
   "source": [
    "print(\"\\nEvaluating Final Model on Unseen Data...\")\n",
    "\n",
    "final_test_acc_15 = accuracy_score(y_final_test, depth15_tree.predict(X_final_test))\n",
    "final_test_acc_pruned = accuracy_score(y_final_test, pruned_tree.predict(X_final_test))\n",
    "\n",
    "# Store final test results\n",
    "final_test_df = pd.DataFrame({\n",
    "    \"Model\": [\"Depth=15 (No Pruning)\", \"Pruned Fully Grown (α=0.0001)\"],\n",
    "    \"Final Test Accuracy\": [final_test_acc_15, final_test_acc_pruned]\n",
    "})\n",
    "\n",
    "display(final_test_df)\n"
   ]
  },
  {
   "cell_type": "code",
   "execution_count": null,
   "id": "585ca4bc",
   "metadata": {},
   "outputs": [],
   "source": []
  }
 ],
 "metadata": {
  "kernelspec": {
   "display_name": "Python 3 (ipykernel)",
   "language": "python",
   "name": "python3"
  },
  "language_info": {
   "codemirror_mode": {
    "name": "ipython",
    "version": 3
   },
   "file_extension": ".py",
   "mimetype": "text/x-python",
   "name": "python",
   "nbconvert_exporter": "python",
   "pygments_lexer": "ipython3",
   "version": "3.11.5"
  }
 },
 "nbformat": 4,
 "nbformat_minor": 5
}
